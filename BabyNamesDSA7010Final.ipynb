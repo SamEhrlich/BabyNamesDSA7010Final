{
 "cells": [
  {
   "cell_type": "code",
   "execution_count": 1,
   "metadata": {},
   "outputs": [
    {
     "name": "stderr",
     "output_type": "stream",
     "text": [
      "\n",
      "Attaching package: ‘dplyr’\n",
      "\n",
      "The following objects are masked from ‘package:stats’:\n",
      "\n",
      "    filter, lag\n",
      "\n",
      "The following objects are masked from ‘package:base’:\n",
      "\n",
      "    intersect, setdiff, setequal, union\n",
      "\n",
      "Loading required package: lattice\n"
     ]
    }
   ],
   "source": [
    "#import libraries for this project\n",
    "library(dplyr)\n",
    "library(ggplot2)\n",
    "library(caret)\n",
    "library(lattice)"
   ]
  },
  {
   "cell_type": "code",
   "execution_count": 2,
   "metadata": {},
   "outputs": [
    {
     "data": {
      "text/html": [
       "<table>\n",
       "<caption>A data.frame: 6 × 5</caption>\n",
       "<thead>\n",
       "\t<tr><th scope=col>Id</th><th scope=col>Name</th><th scope=col>Year</th><th scope=col>Gender</th><th scope=col>Count</th></tr>\n",
       "\t<tr><th scope=col>&lt;int&gt;</th><th scope=col>&lt;fct&gt;</th><th scope=col>&lt;int&gt;</th><th scope=col>&lt;fct&gt;</th><th scope=col>&lt;int&gt;</th></tr>\n",
       "</thead>\n",
       "<tbody>\n",
       "\t<tr><td> 4</td><td>Elizabeth</td><td>1880</td><td>F</td><td>1939</td></tr>\n",
       "\t<tr><td> 8</td><td>Alice    </td><td>1880</td><td>F</td><td>1414</td></tr>\n",
       "\t<tr><td>12</td><td>Clara    </td><td>1880</td><td>F</td><td>1226</td></tr>\n",
       "\t<tr><td>13</td><td>Ella     </td><td>1880</td><td>F</td><td>1156</td></tr>\n",
       "\t<tr><td>18</td><td>Nellie   </td><td>1880</td><td>F</td><td> 995</td></tr>\n",
       "\t<tr><td>21</td><td>Maude    </td><td>1880</td><td>F</td><td> 858</td></tr>\n",
       "</tbody>\n",
       "</table>\n"
      ],
      "text/latex": [
       "A data.frame: 6 × 5\n",
       "\\begin{tabular}{r|lllll}\n",
       " Id & Name & Year & Gender & Count\\\\\n",
       " <int> & <fct> & <int> & <fct> & <int>\\\\\n",
       "\\hline\n",
       "\t  4 & Elizabeth & 1880 & F & 1939\\\\\n",
       "\t  8 & Alice     & 1880 & F & 1414\\\\\n",
       "\t 12 & Clara     & 1880 & F & 1226\\\\\n",
       "\t 13 & Ella      & 1880 & F & 1156\\\\\n",
       "\t 18 & Nellie    & 1880 & F &  995\\\\\n",
       "\t 21 & Maude     & 1880 & F &  858\\\\\n",
       "\\end{tabular}\n"
      ],
      "text/markdown": [
       "\n",
       "A data.frame: 6 × 5\n",
       "\n",
       "| Id &lt;int&gt; | Name &lt;fct&gt; | Year &lt;int&gt; | Gender &lt;fct&gt; | Count &lt;int&gt; |\n",
       "|---|---|---|---|---|\n",
       "|  4 | Elizabeth | 1880 | F | 1939 |\n",
       "|  8 | Alice     | 1880 | F | 1414 |\n",
       "| 12 | Clara     | 1880 | F | 1226 |\n",
       "| 13 | Ella      | 1880 | F | 1156 |\n",
       "| 18 | Nellie    | 1880 | F |  995 |\n",
       "| 21 | Maude     | 1880 | F |  858 |\n",
       "\n"
      ],
      "text/plain": [
       "  Id Name      Year Gender Count\n",
       "1  4 Elizabeth 1880 F      1939 \n",
       "2  8 Alice     1880 F      1414 \n",
       "3 12 Clara     1880 F      1226 \n",
       "4 13 Ella      1880 F      1156 \n",
       "5 18 Nellie    1880 F       995 \n",
       "6 21 Maude     1880 F       858 "
      ]
     },
     "metadata": {},
     "output_type": "display_data"
    }
   ],
   "source": [
    "#import the csv data file that contains the names for babies\n",
    "#examine the file to find a story to tell\n",
    "babynames <- read.csv('/dsa/data/all_datasets/baby-names/NationalNames2.csv')\n",
    "head(babynames)"
   ]
  },
  {
   "cell_type": "code",
   "execution_count": 3,
   "metadata": {
    "scrolled": true
   },
   "outputs": [
    {
     "data": {
      "text/html": [
       "<table>\n",
       "<caption>A data.frame: 6 × 5</caption>\n",
       "<thead>\n",
       "\t<tr><th scope=col>Id</th><th scope=col>Name</th><th scope=col>Year</th><th scope=col>Gender</th><th scope=col>Count</th></tr>\n",
       "\t<tr><th scope=col>&lt;int&gt;</th><th scope=col>&lt;fct&gt;</th><th scope=col>&lt;int&gt;</th><th scope=col>&lt;fct&gt;</th><th scope=col>&lt;int&gt;</th></tr>\n",
       "</thead>\n",
       "<tbody>\n",
       "\t<tr><td>  978</td><td>Sam</td><td>1880</td><td>M</td><td>457</td></tr>\n",
       "\t<tr><td> 2970</td><td>Sam</td><td>1881</td><td>M</td><td>481</td></tr>\n",
       "\t<tr><td> 7149</td><td>Sam</td><td>1883</td><td>M</td><td>476</td></tr>\n",
       "\t<tr><td>11675</td><td>Sam</td><td>1885</td><td>M</td><td>492</td></tr>\n",
       "\t<tr><td>14053</td><td>Sam</td><td>1886</td><td>M</td><td>519</td></tr>\n",
       "\t<tr><td>18952</td><td>Sam</td><td>1888</td><td>F</td><td>  5</td></tr>\n",
       "</tbody>\n",
       "</table>\n"
      ],
      "text/latex": [
       "A data.frame: 6 × 5\n",
       "\\begin{tabular}{r|lllll}\n",
       " Id & Name & Year & Gender & Count\\\\\n",
       " <int> & <fct> & <int> & <fct> & <int>\\\\\n",
       "\\hline\n",
       "\t   978 & Sam & 1880 & M & 457\\\\\n",
       "\t  2970 & Sam & 1881 & M & 481\\\\\n",
       "\t  7149 & Sam & 1883 & M & 476\\\\\n",
       "\t 11675 & Sam & 1885 & M & 492\\\\\n",
       "\t 14053 & Sam & 1886 & M & 519\\\\\n",
       "\t 18952 & Sam & 1888 & F &   5\\\\\n",
       "\\end{tabular}\n"
      ],
      "text/markdown": [
       "\n",
       "A data.frame: 6 × 5\n",
       "\n",
       "| Id &lt;int&gt; | Name &lt;fct&gt; | Year &lt;int&gt; | Gender &lt;fct&gt; | Count &lt;int&gt; |\n",
       "|---|---|---|---|---|\n",
       "|   978 | Sam | 1880 | M | 457 |\n",
       "|  2970 | Sam | 1881 | M | 481 |\n",
       "|  7149 | Sam | 1883 | M | 476 |\n",
       "| 11675 | Sam | 1885 | M | 492 |\n",
       "| 14053 | Sam | 1886 | M | 519 |\n",
       "| 18952 | Sam | 1888 | F |   5 |\n",
       "\n"
      ],
      "text/plain": [
       "  Id    Name Year Gender Count\n",
       "1   978 Sam  1880 M      457  \n",
       "2  2970 Sam  1881 M      481  \n",
       "3  7149 Sam  1883 M      476  \n",
       "4 11675 Sam  1885 M      492  \n",
       "5 14053 Sam  1886 M      519  \n",
       "6 18952 Sam  1888 F        5  "
      ]
     },
     "metadata": {},
     "output_type": "display_data"
    },
    {
     "data": {
      "text/html": [
       "<table>\n",
       "<caption>A data.frame: 6 × 5</caption>\n",
       "<thead>\n",
       "\t<tr><th></th><th scope=col>Id</th><th scope=col>Name</th><th scope=col>Year</th><th scope=col>Gender</th><th scope=col>Count</th></tr>\n",
       "\t<tr><th></th><th scope=col>&lt;int&gt;</th><th scope=col>&lt;fct&gt;</th><th scope=col>&lt;int&gt;</th><th scope=col>&lt;fct&gt;</th><th scope=col>&lt;int&gt;</th></tr>\n",
       "</thead>\n",
       "<tbody>\n",
       "\t<tr><th scope=row>80</th><td>1608761</td><td>Sam</td><td>2008</td><td>M</td><td>604</td></tr>\n",
       "\t<tr><th scope=row>81</th><td>1643542</td><td>Sam</td><td>2009</td><td>M</td><td>580</td></tr>\n",
       "\t<tr><th scope=row>82</th><td>1677863</td><td>Sam</td><td>2010</td><td>M</td><td>550</td></tr>\n",
       "\t<tr><th scope=row>83</th><td>1745490</td><td>Sam</td><td>2012</td><td>M</td><td>505</td></tr>\n",
       "\t<tr><th scope=row>84</th><td>1801767</td><td>Sam</td><td>2014</td><td>F</td><td> 12</td></tr>\n",
       "\t<tr><th scope=row>85</th><td>1811989</td><td>Sam</td><td>2014</td><td>M</td><td>516</td></tr>\n",
       "</tbody>\n",
       "</table>\n"
      ],
      "text/latex": [
       "A data.frame: 6 × 5\n",
       "\\begin{tabular}{r|lllll}\n",
       "  & Id & Name & Year & Gender & Count\\\\\n",
       "  & <int> & <fct> & <int> & <fct> & <int>\\\\\n",
       "\\hline\n",
       "\t80 & 1608761 & Sam & 2008 & M & 604\\\\\n",
       "\t81 & 1643542 & Sam & 2009 & M & 580\\\\\n",
       "\t82 & 1677863 & Sam & 2010 & M & 550\\\\\n",
       "\t83 & 1745490 & Sam & 2012 & M & 505\\\\\n",
       "\t84 & 1801767 & Sam & 2014 & F &  12\\\\\n",
       "\t85 & 1811989 & Sam & 2014 & M & 516\\\\\n",
       "\\end{tabular}\n"
      ],
      "text/markdown": [
       "\n",
       "A data.frame: 6 × 5\n",
       "\n",
       "| <!--/--> | Id &lt;int&gt; | Name &lt;fct&gt; | Year &lt;int&gt; | Gender &lt;fct&gt; | Count &lt;int&gt; |\n",
       "|---|---|---|---|---|---|\n",
       "| 80 | 1608761 | Sam | 2008 | M | 604 |\n",
       "| 81 | 1643542 | Sam | 2009 | M | 580 |\n",
       "| 82 | 1677863 | Sam | 2010 | M | 550 |\n",
       "| 83 | 1745490 | Sam | 2012 | M | 505 |\n",
       "| 84 | 1801767 | Sam | 2014 | F |  12 |\n",
       "| 85 | 1811989 | Sam | 2014 | M | 516 |\n",
       "\n"
      ],
      "text/plain": [
       "   Id      Name Year Gender Count\n",
       "80 1608761 Sam  2008 M      604  \n",
       "81 1643542 Sam  2009 M      580  \n",
       "82 1677863 Sam  2010 M      550  \n",
       "83 1745490 Sam  2012 M      505  \n",
       "84 1801767 Sam  2014 F       12  \n",
       "85 1811989 Sam  2014 M      516  "
      ]
     },
     "metadata": {},
     "output_type": "display_data"
    },
    {
     "data": {
      "text/plain": [
       "       Id                 Name         Year      Gender     Count       \n",
       " Min.   :    978   Sam      :85   Min.   :1880   F:34   Min.   :   5.0  \n",
       " 1st Qu.:  91773   Aaban    : 0   1st Qu.:1910   M:51   1st Qu.:  10.0  \n",
       " Median : 455841   Aabid    : 0   Median :1949          Median : 469.0  \n",
       " Mean   : 599022   Aabriella: 0   Mean   :1948          Mean   : 507.1  \n",
       " 3rd Qu.: 951789   Aadam    : 0   3rd Qu.:1984          3rd Qu.: 590.0  \n",
       " Max.   :1811989   Aadan    : 0   Max.   :2014          Max.   :2455.0  \n",
       "                   (Other)  : 0                                         "
      ]
     },
     "metadata": {},
     "output_type": "display_data"
    },
    {
     "data": {
      "text/html": [
       "85"
      ],
      "text/latex": [
       "85"
      ],
      "text/markdown": [
       "85"
      ],
      "text/plain": [
       "[1] 85"
      ]
     },
     "metadata": {},
     "output_type": "display_data"
    }
   ],
   "source": [
    "#Exploring the data involving the name sam\n",
    "name_sam <- babynames %>%\n",
    "filter(Name == 'Sam')\n",
    "\n",
    "head(name_sam)\n",
    "tail(name_sam)\n",
    "summary(name_sam)\n",
    "nrow(name_sam)"
   ]
  },
  {
   "cell_type": "code",
   "execution_count": 4,
   "metadata": {
    "scrolled": true
   },
   "outputs": [
    {
     "data": {
      "image/png": "[encoded data removed]",
      "text/plain": [
       "plot without title"
      ]
     },
     "metadata": {},
     "output_type": "display_data"
    }
   ],
   "source": [
    "ggplot(name_sam, aes(x=Year, y=Count, color=Gender)) + geom_point()\n",
    "#you can see that the most popular year for males named sam is between 1915-1980's\n",
    "#there is a relatively linear decline that I would like to train a linear regression model\n",
    "#I will train the model on the portion that is declining and test the model on the years following\n",
    "#if all goes correctly the regression model would demonstrate how popular the name sam would be if \n",
    "#it continued to decline as if they are dependent on one another"
   ]
  },
  {
   "cell_type": "code",
   "execution_count": 5,
   "metadata": {},
   "outputs": [
    {
     "data": {
      "text/html": [
       "<table>\n",
       "<caption>A data.frame: 6 × 5</caption>\n",
       "<thead>\n",
       "\t<tr><th scope=col>Id</th><th scope=col>Name</th><th scope=col>Year</th><th scope=col>Gender</th><th scope=col>Count</th></tr>\n",
       "\t<tr><th scope=col>&lt;int&gt;</th><th scope=col>&lt;fct&gt;</th><th scope=col>&lt;int&gt;</th><th scope=col>&lt;fct&gt;</th><th scope=col>&lt;int&gt;</th></tr>\n",
       "</thead>\n",
       "<tbody>\n",
       "\t<tr><td>124756</td><td>Sam</td><td>1915</td><td>M</td><td>2339</td></tr>\n",
       "\t<tr><td>134314</td><td>Sam</td><td>1916</td><td>M</td><td>2313</td></tr>\n",
       "\t<tr><td>144159</td><td>Sam</td><td>1917</td><td>M</td><td>2455</td></tr>\n",
       "\t<tr><td>186170</td><td>Sam</td><td>1921</td><td>M</td><td>2365</td></tr>\n",
       "\t<tr><td>239694</td><td>Sam</td><td>1926</td><td>M</td><td>2034</td></tr>\n",
       "\t<tr><td>270386</td><td>Sam</td><td>1929</td><td>M</td><td>1730</td></tr>\n",
       "</tbody>\n",
       "</table>\n"
      ],
      "text/latex": [
       "A data.frame: 6 × 5\n",
       "\\begin{tabular}{r|lllll}\n",
       " Id & Name & Year & Gender & Count\\\\\n",
       " <int> & <fct> & <int> & <fct> & <int>\\\\\n",
       "\\hline\n",
       "\t 124756 & Sam & 1915 & M & 2339\\\\\n",
       "\t 134314 & Sam & 1916 & M & 2313\\\\\n",
       "\t 144159 & Sam & 1917 & M & 2455\\\\\n",
       "\t 186170 & Sam & 1921 & M & 2365\\\\\n",
       "\t 239694 & Sam & 1926 & M & 2034\\\\\n",
       "\t 270386 & Sam & 1929 & M & 1730\\\\\n",
       "\\end{tabular}\n"
      ],
      "text/markdown": [
       "\n",
       "A data.frame: 6 × 5\n",
       "\n",
       "| Id &lt;int&gt; | Name &lt;fct&gt; | Year &lt;int&gt; | Gender &lt;fct&gt; | Count &lt;int&gt; |\n",
       "|---|---|---|---|---|\n",
       "| 124756 | Sam | 1915 | M | 2339 |\n",
       "| 134314 | Sam | 1916 | M | 2313 |\n",
       "| 144159 | Sam | 1917 | M | 2455 |\n",
       "| 186170 | Sam | 1921 | M | 2365 |\n",
       "| 239694 | Sam | 1926 | M | 2034 |\n",
       "| 270386 | Sam | 1929 | M | 1730 |\n",
       "\n"
      ],
      "text/plain": [
       "  Id     Name Year Gender Count\n",
       "1 124756 Sam  1915 M      2339 \n",
       "2 134314 Sam  1916 M      2313 \n",
       "3 144159 Sam  1917 M      2455 \n",
       "4 186170 Sam  1921 M      2365 \n",
       "5 239694 Sam  1926 M      2034 \n",
       "6 270386 Sam  1929 M      1730 "
      ]
     },
     "metadata": {},
     "output_type": "display_data"
    }
   ],
   "source": [
    "popular_name_sam <- name_sam %>%\n",
    "filter(Gender == 'M', Year >= 1915 & Year <= 1980)\n",
    "\n",
    "head(popular_name_sam)\n",
    "#this is going to be the data I train my model on\n",
    "#my test data will be the years following 1980-2014 for males named sam"
   ]
  },
  {
   "cell_type": "code",
   "execution_count": 6,
   "metadata": {
    "scrolled": true
   },
   "outputs": [
    {
     "data": {
      "image/png": "[encoded data removed]",
      "text/plain": [
       "plot without title"
      ]
     },
     "metadata": {},
     "output_type": "display_data"
    }
   ],
   "source": [
    "ggplot(popular_name_sam, aes(x=Year, y=Count)) + geom_point()"
   ]
  },
  {
   "cell_type": "code",
   "execution_count": 7,
   "metadata": {},
   "outputs": [
    {
     "data": {
      "text/html": [
       "-0.961398022811054"
      ],
      "text/latex": [
       "-0.961398022811054"
      ],
      "text/markdown": [
       "-0.961398022811054"
      ],
      "text/plain": [
       "[1] -0.961398"
      ]
     },
     "metadata": {},
     "output_type": "display_data"
    }
   ],
   "source": [
    "cor(popular_name_sam$Year, popular_name_sam$Count)\n",
    "#this correlation shows that there is a massive decline in the name sam for males between the years 1915-1980\n",
    "#my model will show what the name sam would look like if the decline were to continue at this rate from 1980-2014\n",
    "#my model will also include the data before 1915 as well"
   ]
  },
  {
   "cell_type": "code",
   "execution_count": 8,
   "metadata": {
    "scrolled": true
   },
   "outputs": [
    {
     "data": {
      "text/html": [
       "<table>\n",
       "<caption>A data.frame: 22 × 5</caption>\n",
       "<thead>\n",
       "\t<tr><th scope=col>Id</th><th scope=col>Name</th><th scope=col>Year</th><th scope=col>Gender</th><th scope=col>Count</th></tr>\n",
       "\t<tr><th scope=col>&lt;int&gt;</th><th scope=col>&lt;fct&gt;</th><th scope=col>&lt;int&gt;</th><th scope=col>&lt;fct&gt;</th><th scope=col>&lt;int&gt;</th></tr>\n",
       "</thead>\n",
       "<tbody>\n",
       "\t<tr><td>124756</td><td>Sam</td><td>1915</td><td>M</td><td>2339</td></tr>\n",
       "\t<tr><td>134314</td><td>Sam</td><td>1916</td><td>M</td><td>2313</td></tr>\n",
       "\t<tr><td>144159</td><td>Sam</td><td>1917</td><td>M</td><td>2455</td></tr>\n",
       "\t<tr><td>186170</td><td>Sam</td><td>1921</td><td>M</td><td>2365</td></tr>\n",
       "\t<tr><td>239694</td><td>Sam</td><td>1926</td><td>M</td><td>2034</td></tr>\n",
       "\t<tr><td>270386</td><td>Sam</td><td>1929</td><td>M</td><td>1730</td></tr>\n",
       "\t<tr><td>280181</td><td>Sam</td><td>1930</td><td>M</td><td>1670</td></tr>\n",
       "\t<tr><td>299122</td><td>Sam</td><td>1932</td><td>M</td><td>1452</td></tr>\n",
       "\t<tr><td>317394</td><td>Sam</td><td>1934</td><td>M</td><td>1323</td></tr>\n",
       "\t<tr><td>353482</td><td>Sam</td><td>1938</td><td>M</td><td>1159</td></tr>\n",
       "\t<tr><td>399282</td><td>Sam</td><td>1943</td><td>M</td><td>1321</td></tr>\n",
       "\t<tr><td>489294</td><td>Sam</td><td>1952</td><td>M</td><td> 944</td></tr>\n",
       "\t<tr><td>511022</td><td>Sam</td><td>1954</td><td>M</td><td> 872</td></tr>\n",
       "\t<tr><td>592122</td><td>Sam</td><td>1961</td><td>M</td><td>1194</td></tr>\n",
       "\t<tr><td>629074</td><td>Sam</td><td>1964</td><td>M</td><td> 958</td></tr>\n",
       "\t<tr><td>653268</td><td>Sam</td><td>1966</td><td>M</td><td> 679</td></tr>\n",
       "\t<tr><td>678431</td><td>Sam</td><td>1968</td><td>M</td><td> 565</td></tr>\n",
       "\t<tr><td>736665</td><td>Sam</td><td>1972</td><td>M</td><td> 499</td></tr>\n",
       "\t<tr><td>784970</td><td>Sam</td><td>1975</td><td>M</td><td> 420</td></tr>\n",
       "\t<tr><td>820054</td><td>Sam</td><td>1977</td><td>M</td><td> 356</td></tr>\n",
       "\t<tr><td>857076</td><td>Sam</td><td>1979</td><td>M</td><td> 378</td></tr>\n",
       "\t<tr><td>876324</td><td>Sam</td><td>1980</td><td>M</td><td> 366</td></tr>\n",
       "</tbody>\n",
       "</table>\n"
      ],
      "text/latex": [
       "A data.frame: 22 × 5\n",
       "\\begin{tabular}{r|lllll}\n",
       " Id & Name & Year & Gender & Count\\\\\n",
       " <int> & <fct> & <int> & <fct> & <int>\\\\\n",
       "\\hline\n",
       "\t 124756 & Sam & 1915 & M & 2339\\\\\n",
       "\t 134314 & Sam & 1916 & M & 2313\\\\\n",
       "\t 144159 & Sam & 1917 & M & 2455\\\\\n",
       "\t 186170 & Sam & 1921 & M & 2365\\\\\n",
       "\t 239694 & Sam & 1926 & M & 2034\\\\\n",
       "\t 270386 & Sam & 1929 & M & 1730\\\\\n",
       "\t 280181 & Sam & 1930 & M & 1670\\\\\n",
       "\t 299122 & Sam & 1932 & M & 1452\\\\\n",
       "\t 317394 & Sam & 1934 & M & 1323\\\\\n",
       "\t 353482 & Sam & 1938 & M & 1159\\\\\n",
       "\t 399282 & Sam & 1943 & M & 1321\\\\\n",
       "\t 489294 & Sam & 1952 & M &  944\\\\\n",
       "\t 511022 & Sam & 1954 & M &  872\\\\\n",
       "\t 592122 & Sam & 1961 & M & 1194\\\\\n",
       "\t 629074 & Sam & 1964 & M &  958\\\\\n",
       "\t 653268 & Sam & 1966 & M &  679\\\\\n",
       "\t 678431 & Sam & 1968 & M &  565\\\\\n",
       "\t 736665 & Sam & 1972 & M &  499\\\\\n",
       "\t 784970 & Sam & 1975 & M &  420\\\\\n",
       "\t 820054 & Sam & 1977 & M &  356\\\\\n",
       "\t 857076 & Sam & 1979 & M &  378\\\\\n",
       "\t 876324 & Sam & 1980 & M &  366\\\\\n",
       "\\end{tabular}\n"
      ],
      "text/markdown": [
       "\n",
       "A data.frame: 22 × 5\n",
       "\n",
       "| Id &lt;int&gt; | Name &lt;fct&gt; | Year &lt;int&gt; | Gender &lt;fct&gt; | Count &lt;int&gt; |\n",
       "|---|---|---|---|---|\n",
       "| 124756 | Sam | 1915 | M | 2339 |\n",
       "| 134314 | Sam | 1916 | M | 2313 |\n",
       "| 144159 | Sam | 1917 | M | 2455 |\n",
       "| 186170 | Sam | 1921 | M | 2365 |\n",
       "| 239694 | Sam | 1926 | M | 2034 |\n",
       "| 270386 | Sam | 1929 | M | 1730 |\n",
       "| 280181 | Sam | 1930 | M | 1670 |\n",
       "| 299122 | Sam | 1932 | M | 1452 |\n",
       "| 317394 | Sam | 1934 | M | 1323 |\n",
       "| 353482 | Sam | 1938 | M | 1159 |\n",
       "| 399282 | Sam | 1943 | M | 1321 |\n",
       "| 489294 | Sam | 1952 | M |  944 |\n",
       "| 511022 | Sam | 1954 | M |  872 |\n",
       "| 592122 | Sam | 1961 | M | 1194 |\n",
       "| 629074 | Sam | 1964 | M |  958 |\n",
       "| 653268 | Sam | 1966 | M |  679 |\n",
       "| 678431 | Sam | 1968 | M |  565 |\n",
       "| 736665 | Sam | 1972 | M |  499 |\n",
       "| 784970 | Sam | 1975 | M |  420 |\n",
       "| 820054 | Sam | 1977 | M |  356 |\n",
       "| 857076 | Sam | 1979 | M |  378 |\n",
       "| 876324 | Sam | 1980 | M |  366 |\n",
       "\n"
      ],
      "text/plain": [
       "   Id     Name Year Gender Count\n",
       "1  124756 Sam  1915 M      2339 \n",
       "2  134314 Sam  1916 M      2313 \n",
       "3  144159 Sam  1917 M      2455 \n",
       "4  186170 Sam  1921 M      2365 \n",
       "5  239694 Sam  1926 M      2034 \n",
       "6  270386 Sam  1929 M      1730 \n",
       "7  280181 Sam  1930 M      1670 \n",
       "8  299122 Sam  1932 M      1452 \n",
       "9  317394 Sam  1934 M      1323 \n",
       "10 353482 Sam  1938 M      1159 \n",
       "11 399282 Sam  1943 M      1321 \n",
       "12 489294 Sam  1952 M       944 \n",
       "13 511022 Sam  1954 M       872 \n",
       "14 592122 Sam  1961 M      1194 \n",
       "15 629074 Sam  1964 M       958 \n",
       "16 653268 Sam  1966 M       679 \n",
       "17 678431 Sam  1968 M       565 \n",
       "18 736665 Sam  1972 M       499 \n",
       "19 784970 Sam  1975 M       420 \n",
       "20 820054 Sam  1977 M       356 \n",
       "21 857076 Sam  1979 M       378 \n",
       "22 876324 Sam  1980 M       366 "
      ]
     },
     "metadata": {},
     "output_type": "display_data"
    }
   ],
   "source": [
    "train <- popular_name_sam\n",
    "train\n",
    "#this is the data I will use to train my model\n",
    "#I will test my model on the entire dataset after with the exception of only males named sam"
   ]
  },
  {
   "cell_type": "code",
   "execution_count": 9,
   "metadata": {
    "scrolled": true
   },
   "outputs": [
    {
     "data": {
      "text/html": [
       "<table>\n",
       "<caption>A data.frame: 51 × 5</caption>\n",
       "<thead>\n",
       "\t<tr><th scope=col>Id</th><th scope=col>Name</th><th scope=col>Year</th><th scope=col>Gender</th><th scope=col>Count</th></tr>\n",
       "\t<tr><th scope=col>&lt;int&gt;</th><th scope=col>&lt;fct&gt;</th><th scope=col>&lt;int&gt;</th><th scope=col>&lt;fct&gt;</th><th scope=col>&lt;int&gt;</th></tr>\n",
       "</thead>\n",
       "<tbody>\n",
       "\t<tr><td>    978</td><td>Sam</td><td>1880</td><td>M</td><td> 457</td></tr>\n",
       "\t<tr><td>   2970</td><td>Sam</td><td>1881</td><td>M</td><td> 481</td></tr>\n",
       "\t<tr><td>   7149</td><td>Sam</td><td>1883</td><td>M</td><td> 476</td></tr>\n",
       "\t<tr><td>  11675</td><td>Sam</td><td>1885</td><td>M</td><td> 492</td></tr>\n",
       "\t<tr><td>  14053</td><td>Sam</td><td>1886</td><td>M</td><td> 519</td></tr>\n",
       "\t<tr><td>  35595</td><td>Sam</td><td>1894</td><td>M</td><td> 507</td></tr>\n",
       "\t<tr><td>  38642</td><td>Sam</td><td>1895</td><td>M</td><td> 487</td></tr>\n",
       "\t<tr><td>  47976</td><td>Sam</td><td>1898</td><td>M</td><td> 543</td></tr>\n",
       "\t<tr><td>  51109</td><td>Sam</td><td>1899</td><td>M</td><td> 469</td></tr>\n",
       "\t<tr><td>  57980</td><td>Sam</td><td>1901</td><td>M</td><td> 479</td></tr>\n",
       "\t<tr><td>  61232</td><td>Sam</td><td>1902</td><td>M</td><td> 559</td></tr>\n",
       "\t<tr><td>  79192</td><td>Sam</td><td>1907</td><td>M</td><td> 631</td></tr>\n",
       "\t<tr><td>  83178</td><td>Sam</td><td>1908</td><td>M</td><td> 644</td></tr>\n",
       "\t<tr><td>  91773</td><td>Sam</td><td>1910</td><td>M</td><td> 888</td></tr>\n",
       "\t<tr><td> 124756</td><td>Sam</td><td>1915</td><td>M</td><td>2339</td></tr>\n",
       "\t<tr><td> 134314</td><td>Sam</td><td>1916</td><td>M</td><td>2313</td></tr>\n",
       "\t<tr><td> 144159</td><td>Sam</td><td>1917</td><td>M</td><td>2455</td></tr>\n",
       "\t<tr><td> 186170</td><td>Sam</td><td>1921</td><td>M</td><td>2365</td></tr>\n",
       "\t<tr><td> 239694</td><td>Sam</td><td>1926</td><td>M</td><td>2034</td></tr>\n",
       "\t<tr><td> 270386</td><td>Sam</td><td>1929</td><td>M</td><td>1730</td></tr>\n",
       "\t<tr><td> 280181</td><td>Sam</td><td>1930</td><td>M</td><td>1670</td></tr>\n",
       "\t<tr><td> 299122</td><td>Sam</td><td>1932</td><td>M</td><td>1452</td></tr>\n",
       "\t<tr><td> 317394</td><td>Sam</td><td>1934</td><td>M</td><td>1323</td></tr>\n",
       "\t<tr><td> 353482</td><td>Sam</td><td>1938</td><td>M</td><td>1159</td></tr>\n",
       "\t<tr><td> 399282</td><td>Sam</td><td>1943</td><td>M</td><td>1321</td></tr>\n",
       "\t<tr><td> 489294</td><td>Sam</td><td>1952</td><td>M</td><td> 944</td></tr>\n",
       "\t<tr><td> 511022</td><td>Sam</td><td>1954</td><td>M</td><td> 872</td></tr>\n",
       "\t<tr><td> 592122</td><td>Sam</td><td>1961</td><td>M</td><td>1194</td></tr>\n",
       "\t<tr><td> 629074</td><td>Sam</td><td>1964</td><td>M</td><td> 958</td></tr>\n",
       "\t<tr><td> 653268</td><td>Sam</td><td>1966</td><td>M</td><td> 679</td></tr>\n",
       "\t<tr><td> 678431</td><td>Sam</td><td>1968</td><td>M</td><td> 565</td></tr>\n",
       "\t<tr><td> 736665</td><td>Sam</td><td>1972</td><td>M</td><td> 499</td></tr>\n",
       "\t<tr><td> 784970</td><td>Sam</td><td>1975</td><td>M</td><td> 420</td></tr>\n",
       "\t<tr><td> 820054</td><td>Sam</td><td>1977</td><td>M</td><td> 356</td></tr>\n",
       "\t<tr><td> 857076</td><td>Sam</td><td>1979</td><td>M</td><td> 378</td></tr>\n",
       "\t<tr><td> 876324</td><td>Sam</td><td>1980</td><td>M</td><td> 366</td></tr>\n",
       "\t<tr><td> 895788</td><td>Sam</td><td>1981</td><td>M</td><td> 383</td></tr>\n",
       "\t<tr><td> 974175</td><td>Sam</td><td>1985</td><td>M</td><td> 347</td></tr>\n",
       "\t<tr><td> 994553</td><td>Sam</td><td>1986</td><td>M</td><td> 380</td></tr>\n",
       "\t<tr><td>1110008</td><td>Sam</td><td>1991</td><td>M</td><td> 590</td></tr>\n",
       "\t<tr><td>1160894</td><td>Sam</td><td>1993</td><td>M</td><td> 562</td></tr>\n",
       "\t<tr><td>1265750</td><td>Sam</td><td>1997</td><td>M</td><td> 483</td></tr>\n",
       "\t<tr><td>1350651</td><td>Sam</td><td>2000</td><td>M</td><td> 513</td></tr>\n",
       "\t<tr><td>1380706</td><td>Sam</td><td>2001</td><td>M</td><td> 553</td></tr>\n",
       "\t<tr><td>1411085</td><td>Sam</td><td>2002</td><td>M</td><td> 558</td></tr>\n",
       "\t<tr><td>1473551</td><td>Sam</td><td>2004</td><td>M</td><td> 593</td></tr>\n",
       "\t<tr><td>1608761</td><td>Sam</td><td>2008</td><td>M</td><td> 604</td></tr>\n",
       "\t<tr><td>1643542</td><td>Sam</td><td>2009</td><td>M</td><td> 580</td></tr>\n",
       "\t<tr><td>1677863</td><td>Sam</td><td>2010</td><td>M</td><td> 550</td></tr>\n",
       "\t<tr><td>1745490</td><td>Sam</td><td>2012</td><td>M</td><td> 505</td></tr>\n",
       "\t<tr><td>1811989</td><td>Sam</td><td>2014</td><td>M</td><td> 516</td></tr>\n",
       "</tbody>\n",
       "</table>\n"
      ],
      "text/latex": [
       "A data.frame: 51 × 5\n",
       "\\begin{tabular}{r|lllll}\n",
       " Id & Name & Year & Gender & Count\\\\\n",
       " <int> & <fct> & <int> & <fct> & <int>\\\\\n",
       "\\hline\n",
       "\t     978 & Sam & 1880 & M &  457\\\\\n",
       "\t    2970 & Sam & 1881 & M &  481\\\\\n",
       "\t    7149 & Sam & 1883 & M &  476\\\\\n",
       "\t   11675 & Sam & 1885 & M &  492\\\\\n",
       "\t   14053 & Sam & 1886 & M &  519\\\\\n",
       "\t   35595 & Sam & 1894 & M &  507\\\\\n",
       "\t   38642 & Sam & 1895 & M &  487\\\\\n",
       "\t   47976 & Sam & 1898 & M &  543\\\\\n",
       "\t   51109 & Sam & 1899 & M &  469\\\\\n",
       "\t   57980 & Sam & 1901 & M &  479\\\\\n",
       "\t   61232 & Sam & 1902 & M &  559\\\\\n",
       "\t   79192 & Sam & 1907 & M &  631\\\\\n",
       "\t   83178 & Sam & 1908 & M &  644\\\\\n",
       "\t   91773 & Sam & 1910 & M &  888\\\\\n",
       "\t  124756 & Sam & 1915 & M & 2339\\\\\n",
       "\t  134314 & Sam & 1916 & M & 2313\\\\\n",
       "\t  144159 & Sam & 1917 & M & 2455\\\\\n",
       "\t  186170 & Sam & 1921 & M & 2365\\\\\n",
       "\t  239694 & Sam & 1926 & M & 2034\\\\\n",
       "\t  270386 & Sam & 1929 & M & 1730\\\\\n",
       "\t  280181 & Sam & 1930 & M & 1670\\\\\n",
       "\t  299122 & Sam & 1932 & M & 1452\\\\\n",
       "\t  317394 & Sam & 1934 & M & 1323\\\\\n",
       "\t  353482 & Sam & 1938 & M & 1159\\\\\n",
       "\t  399282 & Sam & 1943 & M & 1321\\\\\n",
       "\t  489294 & Sam & 1952 & M &  944\\\\\n",
       "\t  511022 & Sam & 1954 & M &  872\\\\\n",
       "\t  592122 & Sam & 1961 & M & 1194\\\\\n",
       "\t  629074 & Sam & 1964 & M &  958\\\\\n",
       "\t  653268 & Sam & 1966 & M &  679\\\\\n",
       "\t  678431 & Sam & 1968 & M &  565\\\\\n",
       "\t  736665 & Sam & 1972 & M &  499\\\\\n",
       "\t  784970 & Sam & 1975 & M &  420\\\\\n",
       "\t  820054 & Sam & 1977 & M &  356\\\\\n",
       "\t  857076 & Sam & 1979 & M &  378\\\\\n",
       "\t  876324 & Sam & 1980 & M &  366\\\\\n",
       "\t  895788 & Sam & 1981 & M &  383\\\\\n",
       "\t  974175 & Sam & 1985 & M &  347\\\\\n",
       "\t  994553 & Sam & 1986 & M &  380\\\\\n",
       "\t 1110008 & Sam & 1991 & M &  590\\\\\n",
       "\t 1160894 & Sam & 1993 & M &  562\\\\\n",
       "\t 1265750 & Sam & 1997 & M &  483\\\\\n",
       "\t 1350651 & Sam & 2000 & M &  513\\\\\n",
       "\t 1380706 & Sam & 2001 & M &  553\\\\\n",
       "\t 1411085 & Sam & 2002 & M &  558\\\\\n",
       "\t 1473551 & Sam & 2004 & M &  593\\\\\n",
       "\t 1608761 & Sam & 2008 & M &  604\\\\\n",
       "\t 1643542 & Sam & 2009 & M &  580\\\\\n",
       "\t 1677863 & Sam & 2010 & M &  550\\\\\n",
       "\t 1745490 & Sam & 2012 & M &  505\\\\\n",
       "\t 1811989 & Sam & 2014 & M &  516\\\\\n",
       "\\end{tabular}\n"
      ],
      "text/markdown": [
       "\n",
       "A data.frame: 51 × 5\n",
       "\n",
       "| Id &lt;int&gt; | Name &lt;fct&gt; | Year &lt;int&gt; | Gender &lt;fct&gt; | Count &lt;int&gt; |\n",
       "|---|---|---|---|---|\n",
       "|     978 | Sam | 1880 | M |  457 |\n",
       "|    2970 | Sam | 1881 | M |  481 |\n",
       "|    7149 | Sam | 1883 | M |  476 |\n",
       "|   11675 | Sam | 1885 | M |  492 |\n",
       "|   14053 | Sam | 1886 | M |  519 |\n",
       "|   35595 | Sam | 1894 | M |  507 |\n",
       "|   38642 | Sam | 1895 | M |  487 |\n",
       "|   47976 | Sam | 1898 | M |  543 |\n",
       "|   51109 | Sam | 1899 | M |  469 |\n",
       "|   57980 | Sam | 1901 | M |  479 |\n",
       "|   61232 | Sam | 1902 | M |  559 |\n",
       "|   79192 | Sam | 1907 | M |  631 |\n",
       "|   83178 | Sam | 1908 | M |  644 |\n",
       "|   91773 | Sam | 1910 | M |  888 |\n",
       "|  124756 | Sam | 1915 | M | 2339 |\n",
       "|  134314 | Sam | 1916 | M | 2313 |\n",
       "|  144159 | Sam | 1917 | M | 2455 |\n",
       "|  186170 | Sam | 1921 | M | 2365 |\n",
       "|  239694 | Sam | 1926 | M | 2034 |\n",
       "|  270386 | Sam | 1929 | M | 1730 |\n",
       "|  280181 | Sam | 1930 | M | 1670 |\n",
       "|  299122 | Sam | 1932 | M | 1452 |\n",
       "|  317394 | Sam | 1934 | M | 1323 |\n",
       "|  353482 | Sam | 1938 | M | 1159 |\n",
       "|  399282 | Sam | 1943 | M | 1321 |\n",
       "|  489294 | Sam | 1952 | M |  944 |\n",
       "|  511022 | Sam | 1954 | M |  872 |\n",
       "|  592122 | Sam | 1961 | M | 1194 |\n",
       "|  629074 | Sam | 1964 | M |  958 |\n",
       "|  653268 | Sam | 1966 | M |  679 |\n",
       "|  678431 | Sam | 1968 | M |  565 |\n",
       "|  736665 | Sam | 1972 | M |  499 |\n",
       "|  784970 | Sam | 1975 | M |  420 |\n",
       "|  820054 | Sam | 1977 | M |  356 |\n",
       "|  857076 | Sam | 1979 | M |  378 |\n",
       "|  876324 | Sam | 1980 | M |  366 |\n",
       "|  895788 | Sam | 1981 | M |  383 |\n",
       "|  974175 | Sam | 1985 | M |  347 |\n",
       "|  994553 | Sam | 1986 | M |  380 |\n",
       "| 1110008 | Sam | 1991 | M |  590 |\n",
       "| 1160894 | Sam | 1993 | M |  562 |\n",
       "| 1265750 | Sam | 1997 | M |  483 |\n",
       "| 1350651 | Sam | 2000 | M |  513 |\n",
       "| 1380706 | Sam | 2001 | M |  553 |\n",
       "| 1411085 | Sam | 2002 | M |  558 |\n",
       "| 1473551 | Sam | 2004 | M |  593 |\n",
       "| 1608761 | Sam | 2008 | M |  604 |\n",
       "| 1643542 | Sam | 2009 | M |  580 |\n",
       "| 1677863 | Sam | 2010 | M |  550 |\n",
       "| 1745490 | Sam | 2012 | M |  505 |\n",
       "| 1811989 | Sam | 2014 | M |  516 |\n",
       "\n"
      ],
      "text/plain": [
       "   Id      Name Year Gender Count\n",
       "1      978 Sam  1880 M       457 \n",
       "2     2970 Sam  1881 M       481 \n",
       "3     7149 Sam  1883 M       476 \n",
       "4    11675 Sam  1885 M       492 \n",
       "5    14053 Sam  1886 M       519 \n",
       "6    35595 Sam  1894 M       507 \n",
       "7    38642 Sam  1895 M       487 \n",
       "8    47976 Sam  1898 M       543 \n",
       "9    51109 Sam  1899 M       469 \n",
       "10   57980 Sam  1901 M       479 \n",
       "11   61232 Sam  1902 M       559 \n",
       "12   79192 Sam  1907 M       631 \n",
       "13   83178 Sam  1908 M       644 \n",
       "14   91773 Sam  1910 M       888 \n",
       "15  124756 Sam  1915 M      2339 \n",
       "16  134314 Sam  1916 M      2313 \n",
       "17  144159 Sam  1917 M      2455 \n",
       "18  186170 Sam  1921 M      2365 \n",
       "19  239694 Sam  1926 M      2034 \n",
       "20  270386 Sam  1929 M      1730 \n",
       "21  280181 Sam  1930 M      1670 \n",
       "22  299122 Sam  1932 M      1452 \n",
       "23  317394 Sam  1934 M      1323 \n",
       "24  353482 Sam  1938 M      1159 \n",
       "25  399282 Sam  1943 M      1321 \n",
       "26  489294 Sam  1952 M       944 \n",
       "27  511022 Sam  1954 M       872 \n",
       "28  592122 Sam  1961 M      1194 \n",
       "29  629074 Sam  1964 M       958 \n",
       "30  653268 Sam  1966 M       679 \n",
       "31  678431 Sam  1968 M       565 \n",
       "32  736665 Sam  1972 M       499 \n",
       "33  784970 Sam  1975 M       420 \n",
       "34  820054 Sam  1977 M       356 \n",
       "35  857076 Sam  1979 M       378 \n",
       "36  876324 Sam  1980 M       366 \n",
       "37  895788 Sam  1981 M       383 \n",
       "38  974175 Sam  1985 M       347 \n",
       "39  994553 Sam  1986 M       380 \n",
       "40 1110008 Sam  1991 M       590 \n",
       "41 1160894 Sam  1993 M       562 \n",
       "42 1265750 Sam  1997 M       483 \n",
       "43 1350651 Sam  2000 M       513 \n",
       "44 1380706 Sam  2001 M       553 \n",
       "45 1411085 Sam  2002 M       558 \n",
       "46 1473551 Sam  2004 M       593 \n",
       "47 1608761 Sam  2008 M       604 \n",
       "48 1643542 Sam  2009 M       580 \n",
       "49 1677863 Sam  2010 M       550 \n",
       "50 1745490 Sam  2012 M       505 \n",
       "51 1811989 Sam  2014 M       516 "
      ]
     },
     "metadata": {},
     "output_type": "display_data"
    }
   ],
   "source": [
    "test <- name_sam %>%\n",
    "filter(Gender=='M')\n",
    "\n",
    "test"
   ]
  },
  {
   "cell_type": "code",
   "execution_count": 10,
   "metadata": {},
   "outputs": [],
   "source": [
    "frmla <- Count ~ Year\n",
    "# this is the formula I will be using for my model\n",
    "#I want to predict count as a dependent variable for the independent variable Year(time)"
   ]
  },
  {
   "cell_type": "code",
   "execution_count": 11,
   "metadata": {},
   "outputs": [
    {
     "data": {
      "text/plain": [
       "\n",
       "Call:\n",
       "lm(formula = .outcome ~ ., data = dat)\n",
       "\n",
       "Residuals:\n",
       "    Min      1Q  Median      3Q     Max \n",
       "-379.45 -103.42   -5.01  106.88  352.45 \n",
       "\n",
       "Coefficients:\n",
       "             Estimate Std. Error t value Pr(>|t|)    \n",
       "(Intercept) 60259.411   3777.071   15.95 7.68e-13 ***\n",
       "Year          -30.300      1.939  -15.62 1.13e-12 ***\n",
       "---\n",
       "Signif. codes:  0 ‘***’ 0.001 ‘**’ 0.01 ‘*’ 0.05 ‘.’ 0.1 ‘ ’ 1\n",
       "\n",
       "Residual standard error: 202.3 on 20 degrees of freedom\n",
       "Multiple R-squared:  0.9243,\tAdjusted R-squared:  0.9205 \n",
       "F-statistic: 244.2 on 1 and 20 DF,  p-value: 1.13e-12\n"
      ]
     },
     "metadata": {},
     "output_type": "display_data"
    }
   ],
   "source": [
    "model1 <- train(frmla, train, method = 'lm')\n",
    "summary(model1)\n",
    "#the R-Squared in this model is .92 which is very high meaning each point on this trained model is\n",
    "#close to being explained by the model's inputs"
   ]
  },
  {
   "cell_type": "code",
   "execution_count": 12,
   "metadata": {
    "scrolled": true
   },
   "outputs": [
    {
     "data": {
      "text/html": [
       "<table>\n",
       "<caption>A data.frame: 51 × 6</caption>\n",
       "<thead>\n",
       "\t<tr><th scope=col>Id</th><th scope=col>Name</th><th scope=col>Year</th><th scope=col>Gender</th><th scope=col>Count</th><th scope=col>pred</th></tr>\n",
       "\t<tr><th scope=col>&lt;int&gt;</th><th scope=col>&lt;fct&gt;</th><th scope=col>&lt;int&gt;</th><th scope=col>&lt;fct&gt;</th><th scope=col>&lt;int&gt;</th><th scope=col>&lt;dbl&gt;</th></tr>\n",
       "</thead>\n",
       "<tbody>\n",
       "\t<tr><td>    978</td><td>Sam</td><td>1880</td><td>M</td><td> 457</td><td>3295.83476</td></tr>\n",
       "\t<tr><td>   2970</td><td>Sam</td><td>1881</td><td>M</td><td> 481</td><td>3265.53498</td></tr>\n",
       "\t<tr><td>   7149</td><td>Sam</td><td>1883</td><td>M</td><td> 476</td><td>3204.93543</td></tr>\n",
       "\t<tr><td>  11675</td><td>Sam</td><td>1885</td><td>M</td><td> 492</td><td>3144.33588</td></tr>\n",
       "\t<tr><td>  14053</td><td>Sam</td><td>1886</td><td>M</td><td> 519</td><td>3114.03611</td></tr>\n",
       "\t<tr><td>  35595</td><td>Sam</td><td>1894</td><td>M</td><td> 507</td><td>2871.63791</td></tr>\n",
       "\t<tr><td>  38642</td><td>Sam</td><td>1895</td><td>M</td><td> 487</td><td>2841.33814</td></tr>\n",
       "\t<tr><td>  47976</td><td>Sam</td><td>1898</td><td>M</td><td> 543</td><td>2750.43881</td></tr>\n",
       "\t<tr><td>  51109</td><td>Sam</td><td>1899</td><td>M</td><td> 469</td><td>2720.13904</td></tr>\n",
       "\t<tr><td>  57980</td><td>Sam</td><td>1901</td><td>M</td><td> 479</td><td>2659.53949</td></tr>\n",
       "\t<tr><td>  61232</td><td>Sam</td><td>1902</td><td>M</td><td> 559</td><td>2629.23971</td></tr>\n",
       "\t<tr><td>  79192</td><td>Sam</td><td>1907</td><td>M</td><td> 631</td><td>2477.74084</td></tr>\n",
       "\t<tr><td>  83178</td><td>Sam</td><td>1908</td><td>M</td><td> 644</td><td>2447.44106</td></tr>\n",
       "\t<tr><td>  91773</td><td>Sam</td><td>1910</td><td>M</td><td> 888</td><td>2386.84151</td></tr>\n",
       "\t<tr><td> 124756</td><td>Sam</td><td>1915</td><td>M</td><td>2339</td><td>2235.34264</td></tr>\n",
       "\t<tr><td> 134314</td><td>Sam</td><td>1916</td><td>M</td><td>2313</td><td>2205.04286</td></tr>\n",
       "\t<tr><td> 144159</td><td>Sam</td><td>1917</td><td>M</td><td>2455</td><td>2174.74309</td></tr>\n",
       "\t<tr><td> 186170</td><td>Sam</td><td>1921</td><td>M</td><td>2365</td><td>2053.54399</td></tr>\n",
       "\t<tr><td> 239694</td><td>Sam</td><td>1926</td><td>M</td><td>2034</td><td>1902.04512</td></tr>\n",
       "\t<tr><td> 270386</td><td>Sam</td><td>1929</td><td>M</td><td>1730</td><td>1811.14579</td></tr>\n",
       "\t<tr><td> 280181</td><td>Sam</td><td>1930</td><td>M</td><td>1670</td><td>1780.84602</td></tr>\n",
       "\t<tr><td> 299122</td><td>Sam</td><td>1932</td><td>M</td><td>1452</td><td>1720.24647</td></tr>\n",
       "\t<tr><td> 317394</td><td>Sam</td><td>1934</td><td>M</td><td>1323</td><td>1659.64692</td></tr>\n",
       "\t<tr><td> 353482</td><td>Sam</td><td>1938</td><td>M</td><td>1159</td><td>1538.44782</td></tr>\n",
       "\t<tr><td> 399282</td><td>Sam</td><td>1943</td><td>M</td><td>1321</td><td>1386.94895</td></tr>\n",
       "\t<tr><td> 489294</td><td>Sam</td><td>1952</td><td>M</td><td> 944</td><td>1114.25097</td></tr>\n",
       "\t<tr><td> 511022</td><td>Sam</td><td>1954</td><td>M</td><td> 872</td><td>1053.65142</td></tr>\n",
       "\t<tr><td> 592122</td><td>Sam</td><td>1961</td><td>M</td><td>1194</td><td> 841.55300</td></tr>\n",
       "\t<tr><td> 629074</td><td>Sam</td><td>1964</td><td>M</td><td> 958</td><td> 750.65368</td></tr>\n",
       "\t<tr><td> 653268</td><td>Sam</td><td>1966</td><td>M</td><td> 679</td><td> 690.05413</td></tr>\n",
       "\t<tr><td> 678431</td><td>Sam</td><td>1968</td><td>M</td><td> 565</td><td> 629.45458</td></tr>\n",
       "\t<tr><td> 736665</td><td>Sam</td><td>1972</td><td>M</td><td> 499</td><td> 508.25548</td></tr>\n",
       "\t<tr><td> 784970</td><td>Sam</td><td>1975</td><td>M</td><td> 420</td><td> 417.35615</td></tr>\n",
       "\t<tr><td> 820054</td><td>Sam</td><td>1977</td><td>M</td><td> 356</td><td> 356.75660</td></tr>\n",
       "\t<tr><td> 857076</td><td>Sam</td><td>1979</td><td>M</td><td> 378</td><td> 296.15705</td></tr>\n",
       "\t<tr><td> 876324</td><td>Sam</td><td>1980</td><td>M</td><td> 366</td><td> 265.85728</td></tr>\n",
       "\t<tr><td> 895788</td><td>Sam</td><td>1981</td><td>M</td><td> 383</td><td> 235.55750</td></tr>\n",
       "\t<tr><td> 974175</td><td>Sam</td><td>1985</td><td>M</td><td> 347</td><td> 114.35840</td></tr>\n",
       "\t<tr><td> 994553</td><td>Sam</td><td>1986</td><td>M</td><td> 380</td><td>  84.05863</td></tr>\n",
       "\t<tr><td>1110008</td><td>Sam</td><td>1991</td><td>M</td><td> 590</td><td> -67.44024</td></tr>\n",
       "\t<tr><td>1160894</td><td>Sam</td><td>1993</td><td>M</td><td> 562</td><td>-128.03979</td></tr>\n",
       "\t<tr><td>1265750</td><td>Sam</td><td>1997</td><td>M</td><td> 483</td><td>-249.23889</td></tr>\n",
       "\t<tr><td>1350651</td><td>Sam</td><td>2000</td><td>M</td><td> 513</td><td>-340.13822</td></tr>\n",
       "\t<tr><td>1380706</td><td>Sam</td><td>2001</td><td>M</td><td> 553</td><td>-370.43799</td></tr>\n",
       "\t<tr><td>1411085</td><td>Sam</td><td>2002</td><td>M</td><td> 558</td><td>-400.73777</td></tr>\n",
       "\t<tr><td>1473551</td><td>Sam</td><td>2004</td><td>M</td><td> 593</td><td>-461.33732</td></tr>\n",
       "\t<tr><td>1608761</td><td>Sam</td><td>2008</td><td>M</td><td> 604</td><td>-582.53642</td></tr>\n",
       "\t<tr><td>1643542</td><td>Sam</td><td>2009</td><td>M</td><td> 580</td><td>-612.83619</td></tr>\n",
       "\t<tr><td>1677863</td><td>Sam</td><td>2010</td><td>M</td><td> 550</td><td>-643.13597</td></tr>\n",
       "\t<tr><td>1745490</td><td>Sam</td><td>2012</td><td>M</td><td> 505</td><td>-703.73551</td></tr>\n",
       "\t<tr><td>1811989</td><td>Sam</td><td>2014</td><td>M</td><td> 516</td><td>-764.33506</td></tr>\n",
       "</tbody>\n",
       "</table>\n"
      ],
      "text/latex": [
       "A data.frame: 51 × 6\n",
       "\\begin{tabular}{r|llllll}\n",
       " Id & Name & Year & Gender & Count & pred\\\\\n",
       " <int> & <fct> & <int> & <fct> & <int> & <dbl>\\\\\n",
       "\\hline\n",
       "\t     978 & Sam & 1880 & M &  457 & 3295.83476\\\\\n",
       "\t    2970 & Sam & 1881 & M &  481 & 3265.53498\\\\\n",
       "\t    7149 & Sam & 1883 & M &  476 & 3204.93543\\\\\n",
       "\t   11675 & Sam & 1885 & M &  492 & 3144.33588\\\\\n",
       "\t   14053 & Sam & 1886 & M &  519 & 3114.03611\\\\\n",
       "\t   35595 & Sam & 1894 & M &  507 & 2871.63791\\\\\n",
       "\t   38642 & Sam & 1895 & M &  487 & 2841.33814\\\\\n",
       "\t   47976 & Sam & 1898 & M &  543 & 2750.43881\\\\\n",
       "\t   51109 & Sam & 1899 & M &  469 & 2720.13904\\\\\n",
       "\t   57980 & Sam & 1901 & M &  479 & 2659.53949\\\\\n",
       "\t   61232 & Sam & 1902 & M &  559 & 2629.23971\\\\\n",
       "\t   79192 & Sam & 1907 & M &  631 & 2477.74084\\\\\n",
       "\t   83178 & Sam & 1908 & M &  644 & 2447.44106\\\\\n",
       "\t   91773 & Sam & 1910 & M &  888 & 2386.84151\\\\\n",
       "\t  124756 & Sam & 1915 & M & 2339 & 2235.34264\\\\\n",
       "\t  134314 & Sam & 1916 & M & 2313 & 2205.04286\\\\\n",
       "\t  144159 & Sam & 1917 & M & 2455 & 2174.74309\\\\\n",
       "\t  186170 & Sam & 1921 & M & 2365 & 2053.54399\\\\\n",
       "\t  239694 & Sam & 1926 & M & 2034 & 1902.04512\\\\\n",
       "\t  270386 & Sam & 1929 & M & 1730 & 1811.14579\\\\\n",
       "\t  280181 & Sam & 1930 & M & 1670 & 1780.84602\\\\\n",
       "\t  299122 & Sam & 1932 & M & 1452 & 1720.24647\\\\\n",
       "\t  317394 & Sam & 1934 & M & 1323 & 1659.64692\\\\\n",
       "\t  353482 & Sam & 1938 & M & 1159 & 1538.44782\\\\\n",
       "\t  399282 & Sam & 1943 & M & 1321 & 1386.94895\\\\\n",
       "\t  489294 & Sam & 1952 & M &  944 & 1114.25097\\\\\n",
       "\t  511022 & Sam & 1954 & M &  872 & 1053.65142\\\\\n",
       "\t  592122 & Sam & 1961 & M & 1194 &  841.55300\\\\\n",
       "\t  629074 & Sam & 1964 & M &  958 &  750.65368\\\\\n",
       "\t  653268 & Sam & 1966 & M &  679 &  690.05413\\\\\n",
       "\t  678431 & Sam & 1968 & M &  565 &  629.45458\\\\\n",
       "\t  736665 & Sam & 1972 & M &  499 &  508.25548\\\\\n",
       "\t  784970 & Sam & 1975 & M &  420 &  417.35615\\\\\n",
       "\t  820054 & Sam & 1977 & M &  356 &  356.75660\\\\\n",
       "\t  857076 & Sam & 1979 & M &  378 &  296.15705\\\\\n",
       "\t  876324 & Sam & 1980 & M &  366 &  265.85728\\\\\n",
       "\t  895788 & Sam & 1981 & M &  383 &  235.55750\\\\\n",
       "\t  974175 & Sam & 1985 & M &  347 &  114.35840\\\\\n",
       "\t  994553 & Sam & 1986 & M &  380 &   84.05863\\\\\n",
       "\t 1110008 & Sam & 1991 & M &  590 &  -67.44024\\\\\n",
       "\t 1160894 & Sam & 1993 & M &  562 & -128.03979\\\\\n",
       "\t 1265750 & Sam & 1997 & M &  483 & -249.23889\\\\\n",
       "\t 1350651 & Sam & 2000 & M &  513 & -340.13822\\\\\n",
       "\t 1380706 & Sam & 2001 & M &  553 & -370.43799\\\\\n",
       "\t 1411085 & Sam & 2002 & M &  558 & -400.73777\\\\\n",
       "\t 1473551 & Sam & 2004 & M &  593 & -461.33732\\\\\n",
       "\t 1608761 & Sam & 2008 & M &  604 & -582.53642\\\\\n",
       "\t 1643542 & Sam & 2009 & M &  580 & -612.83619\\\\\n",
       "\t 1677863 & Sam & 2010 & M &  550 & -643.13597\\\\\n",
       "\t 1745490 & Sam & 2012 & M &  505 & -703.73551\\\\\n",
       "\t 1811989 & Sam & 2014 & M &  516 & -764.33506\\\\\n",
       "\\end{tabular}\n"
      ],
      "text/markdown": [
       "\n",
       "A data.frame: 51 × 6\n",
       "\n",
       "| Id &lt;int&gt; | Name &lt;fct&gt; | Year &lt;int&gt; | Gender &lt;fct&gt; | Count &lt;int&gt; | pred &lt;dbl&gt; |\n",
       "|---|---|---|---|---|---|\n",
       "|     978 | Sam | 1880 | M |  457 | 3295.83476 |\n",
       "|    2970 | Sam | 1881 | M |  481 | 3265.53498 |\n",
       "|    7149 | Sam | 1883 | M |  476 | 3204.93543 |\n",
       "|   11675 | Sam | 1885 | M |  492 | 3144.33588 |\n",
       "|   14053 | Sam | 1886 | M |  519 | 3114.03611 |\n",
       "|   35595 | Sam | 1894 | M |  507 | 2871.63791 |\n",
       "|   38642 | Sam | 1895 | M |  487 | 2841.33814 |\n",
       "|   47976 | Sam | 1898 | M |  543 | 2750.43881 |\n",
       "|   51109 | Sam | 1899 | M |  469 | 2720.13904 |\n",
       "|   57980 | Sam | 1901 | M |  479 | 2659.53949 |\n",
       "|   61232 | Sam | 1902 | M |  559 | 2629.23971 |\n",
       "|   79192 | Sam | 1907 | M |  631 | 2477.74084 |\n",
       "|   83178 | Sam | 1908 | M |  644 | 2447.44106 |\n",
       "|   91773 | Sam | 1910 | M |  888 | 2386.84151 |\n",
       "|  124756 | Sam | 1915 | M | 2339 | 2235.34264 |\n",
       "|  134314 | Sam | 1916 | M | 2313 | 2205.04286 |\n",
       "|  144159 | Sam | 1917 | M | 2455 | 2174.74309 |\n",
       "|  186170 | Sam | 1921 | M | 2365 | 2053.54399 |\n",
       "|  239694 | Sam | 1926 | M | 2034 | 1902.04512 |\n",
       "|  270386 | Sam | 1929 | M | 1730 | 1811.14579 |\n",
       "|  280181 | Sam | 1930 | M | 1670 | 1780.84602 |\n",
       "|  299122 | Sam | 1932 | M | 1452 | 1720.24647 |\n",
       "|  317394 | Sam | 1934 | M | 1323 | 1659.64692 |\n",
       "|  353482 | Sam | 1938 | M | 1159 | 1538.44782 |\n",
       "|  399282 | Sam | 1943 | M | 1321 | 1386.94895 |\n",
       "|  489294 | Sam | 1952 | M |  944 | 1114.25097 |\n",
       "|  511022 | Sam | 1954 | M |  872 | 1053.65142 |\n",
       "|  592122 | Sam | 1961 | M | 1194 |  841.55300 |\n",
       "|  629074 | Sam | 1964 | M |  958 |  750.65368 |\n",
       "|  653268 | Sam | 1966 | M |  679 |  690.05413 |\n",
       "|  678431 | Sam | 1968 | M |  565 |  629.45458 |\n",
       "|  736665 | Sam | 1972 | M |  499 |  508.25548 |\n",
       "|  784970 | Sam | 1975 | M |  420 |  417.35615 |\n",
       "|  820054 | Sam | 1977 | M |  356 |  356.75660 |\n",
       "|  857076 | Sam | 1979 | M |  378 |  296.15705 |\n",
       "|  876324 | Sam | 1980 | M |  366 |  265.85728 |\n",
       "|  895788 | Sam | 1981 | M |  383 |  235.55750 |\n",
       "|  974175 | Sam | 1985 | M |  347 |  114.35840 |\n",
       "|  994553 | Sam | 1986 | M |  380 |   84.05863 |\n",
       "| 1110008 | Sam | 1991 | M |  590 |  -67.44024 |\n",
       "| 1160894 | Sam | 1993 | M |  562 | -128.03979 |\n",
       "| 1265750 | Sam | 1997 | M |  483 | -249.23889 |\n",
       "| 1350651 | Sam | 2000 | M |  513 | -340.13822 |\n",
       "| 1380706 | Sam | 2001 | M |  553 | -370.43799 |\n",
       "| 1411085 | Sam | 2002 | M |  558 | -400.73777 |\n",
       "| 1473551 | Sam | 2004 | M |  593 | -461.33732 |\n",
       "| 1608761 | Sam | 2008 | M |  604 | -582.53642 |\n",
       "| 1643542 | Sam | 2009 | M |  580 | -612.83619 |\n",
       "| 1677863 | Sam | 2010 | M |  550 | -643.13597 |\n",
       "| 1745490 | Sam | 2012 | M |  505 | -703.73551 |\n",
       "| 1811989 | Sam | 2014 | M |  516 | -764.33506 |\n",
       "\n"
      ],
      "text/plain": [
       "   Id      Name Year Gender Count pred      \n",
       "1      978 Sam  1880 M       457  3295.83476\n",
       "2     2970 Sam  1881 M       481  3265.53498\n",
       "3     7149 Sam  1883 M       476  3204.93543\n",
       "4    11675 Sam  1885 M       492  3144.33588\n",
       "5    14053 Sam  1886 M       519  3114.03611\n",
       "6    35595 Sam  1894 M       507  2871.63791\n",
       "7    38642 Sam  1895 M       487  2841.33814\n",
       "8    47976 Sam  1898 M       543  2750.43881\n",
       "9    51109 Sam  1899 M       469  2720.13904\n",
       "10   57980 Sam  1901 M       479  2659.53949\n",
       "11   61232 Sam  1902 M       559  2629.23971\n",
       "12   79192 Sam  1907 M       631  2477.74084\n",
       "13   83178 Sam  1908 M       644  2447.44106\n",
       "14   91773 Sam  1910 M       888  2386.84151\n",
       "15  124756 Sam  1915 M      2339  2235.34264\n",
       "16  134314 Sam  1916 M      2313  2205.04286\n",
       "17  144159 Sam  1917 M      2455  2174.74309\n",
       "18  186170 Sam  1921 M      2365  2053.54399\n",
       "19  239694 Sam  1926 M      2034  1902.04512\n",
       "20  270386 Sam  1929 M      1730  1811.14579\n",
       "21  280181 Sam  1930 M      1670  1780.84602\n",
       "22  299122 Sam  1932 M      1452  1720.24647\n",
       "23  317394 Sam  1934 M      1323  1659.64692\n",
       "24  353482 Sam  1938 M      1159  1538.44782\n",
       "25  399282 Sam  1943 M      1321  1386.94895\n",
       "26  489294 Sam  1952 M       944  1114.25097\n",
       "27  511022 Sam  1954 M       872  1053.65142\n",
       "28  592122 Sam  1961 M      1194   841.55300\n",
       "29  629074 Sam  1964 M       958   750.65368\n",
       "30  653268 Sam  1966 M       679   690.05413\n",
       "31  678431 Sam  1968 M       565   629.45458\n",
       "32  736665 Sam  1972 M       499   508.25548\n",
       "33  784970 Sam  1975 M       420   417.35615\n",
       "34  820054 Sam  1977 M       356   356.75660\n",
       "35  857076 Sam  1979 M       378   296.15705\n",
       "36  876324 Sam  1980 M       366   265.85728\n",
       "37  895788 Sam  1981 M       383   235.55750\n",
       "38  974175 Sam  1985 M       347   114.35840\n",
       "39  994553 Sam  1986 M       380    84.05863\n",
       "40 1110008 Sam  1991 M       590   -67.44024\n",
       "41 1160894 Sam  1993 M       562  -128.03979\n",
       "42 1265750 Sam  1997 M       483  -249.23889\n",
       "43 1350651 Sam  2000 M       513  -340.13822\n",
       "44 1380706 Sam  2001 M       553  -370.43799\n",
       "45 1411085 Sam  2002 M       558  -400.73777\n",
       "46 1473551 Sam  2004 M       593  -461.33732\n",
       "47 1608761 Sam  2008 M       604  -582.53642\n",
       "48 1643542 Sam  2009 M       580  -612.83619\n",
       "49 1677863 Sam  2010 M       550  -643.13597\n",
       "50 1745490 Sam  2012 M       505  -703.73551\n",
       "51 1811989 Sam  2014 M       516  -764.33506"
      ]
     },
     "metadata": {},
     "output_type": "display_data"
    }
   ],
   "source": [
    "test$pred <- predict(model1, test)\n",
    "\n",
    "test\n",
    "#this model shows that the predictions went from very accurate in the training to not very accurate in the testing model\n",
    "#this is clear because the popularity of the name is not actually dependent on the year \n",
    "#having the name sam is not linearly correlated with the popularity by year"
   ]
  },
  {
   "cell_type": "code",
   "execution_count": 13,
   "metadata": {},
   "outputs": [
    {
     "data": {
      "text/html": [
       "<table>\n",
       "<caption>A data.frame: 6 × 6</caption>\n",
       "<thead>\n",
       "\t<tr><th scope=col>Id</th><th scope=col>Name</th><th scope=col>Year</th><th scope=col>Gender</th><th scope=col>Count</th><th scope=col>pred</th></tr>\n",
       "\t<tr><th scope=col>&lt;int&gt;</th><th scope=col>&lt;fct&gt;</th><th scope=col>&lt;int&gt;</th><th scope=col>&lt;fct&gt;</th><th scope=col>&lt;int&gt;</th><th scope=col>&lt;dbl&gt;</th></tr>\n",
       "</thead>\n",
       "<tbody>\n",
       "\t<tr><td>  978</td><td>Sam</td><td>1880</td><td>M</td><td>457</td><td>3295.835</td></tr>\n",
       "\t<tr><td> 2970</td><td>Sam</td><td>1881</td><td>M</td><td>481</td><td>3265.535</td></tr>\n",
       "\t<tr><td> 7149</td><td>Sam</td><td>1883</td><td>M</td><td>476</td><td>3204.935</td></tr>\n",
       "\t<tr><td>11675</td><td>Sam</td><td>1885</td><td>M</td><td>492</td><td>3144.336</td></tr>\n",
       "\t<tr><td>14053</td><td>Sam</td><td>1886</td><td>M</td><td>519</td><td>3114.036</td></tr>\n",
       "\t<tr><td>35595</td><td>Sam</td><td>1894</td><td>M</td><td>507</td><td>2871.638</td></tr>\n",
       "</tbody>\n",
       "</table>\n"
      ],
      "text/latex": [
       "A data.frame: 6 × 6\n",
       "\\begin{tabular}{r|llllll}\n",
       " Id & Name & Year & Gender & Count & pred\\\\\n",
       " <int> & <fct> & <int> & <fct> & <int> & <dbl>\\\\\n",
       "\\hline\n",
       "\t   978 & Sam & 1880 & M & 457 & 3295.835\\\\\n",
       "\t  2970 & Sam & 1881 & M & 481 & 3265.535\\\\\n",
       "\t  7149 & Sam & 1883 & M & 476 & 3204.935\\\\\n",
       "\t 11675 & Sam & 1885 & M & 492 & 3144.336\\\\\n",
       "\t 14053 & Sam & 1886 & M & 519 & 3114.036\\\\\n",
       "\t 35595 & Sam & 1894 & M & 507 & 2871.638\\\\\n",
       "\\end{tabular}\n"
      ],
      "text/markdown": [
       "\n",
       "A data.frame: 6 × 6\n",
       "\n",
       "| Id &lt;int&gt; | Name &lt;fct&gt; | Year &lt;int&gt; | Gender &lt;fct&gt; | Count &lt;int&gt; | pred &lt;dbl&gt; |\n",
       "|---|---|---|---|---|---|\n",
       "|   978 | Sam | 1880 | M | 457 | 3295.835 |\n",
       "|  2970 | Sam | 1881 | M | 481 | 3265.535 |\n",
       "|  7149 | Sam | 1883 | M | 476 | 3204.935 |\n",
       "| 11675 | Sam | 1885 | M | 492 | 3144.336 |\n",
       "| 14053 | Sam | 1886 | M | 519 | 3114.036 |\n",
       "| 35595 | Sam | 1894 | M | 507 | 2871.638 |\n",
       "\n"
      ],
      "text/plain": [
       "  Id    Name Year Gender Count pred    \n",
       "1   978 Sam  1880 M      457   3295.835\n",
       "2  2970 Sam  1881 M      481   3265.535\n",
       "3  7149 Sam  1883 M      476   3204.935\n",
       "4 11675 Sam  1885 M      492   3144.336\n",
       "5 14053 Sam  1886 M      519   3114.036\n",
       "6 35595 Sam  1894 M      507   2871.638"
      ]
     },
     "metadata": {},
     "output_type": "display_data"
    }
   ],
   "source": [
    "intercept <- coef(model1$finalModel)[1]\n",
    "slope <- coef(model1$finalModel)[2]\n",
    "\n",
    "head(test)"
   ]
  },
  {
   "cell_type": "code",
   "execution_count": 14,
   "metadata": {},
   "outputs": [
    {
     "data": {
      "image/png": "[encoded data removed]",
      "text/plain": [
       "plot without title"
      ]
     },
     "metadata": {},
     "output_type": "display_data"
    }
   ],
   "source": [
    "#I am visualizing the data. The red line is the linear regression line of the name sam. The blue line is the point where the \n",
    "#name sam reaches 0. The black dots are the actual data results from the csv file, and the lines connecting the linear \n",
    "#regression line to the dots show how far the line is from the actual points.\n",
    "ggplot(test, aes(x=Year, y=Count)) +\n",
    "    geom_abline(intercept = intercept, slope = slope, color = 'red') +\n",
    "    geom_segment(aes(x=Year, xend=Year, y=Count, yend=pred), color = 'grey', alpha=.7) +\n",
    "    geom_hline(yintercept = 0, color='blue') +\n",
    "    geom_point() + \n",
    "    labs(title = 'Linear Regression of the Name Sam') + \n",
    "    theme_bw()"
   ]
  },
  {
   "cell_type": "code",
   "execution_count": null,
   "metadata": {},
   "outputs": [],
   "source": [
    "# The visualization I made was a linear regression based off the year and count of the name sam (for males) \n",
    "# throughout the years. I trained my data based on the middle portion of the data (1915-1980) \n",
    "# where the data is heavily trending downward. This made the data seem as if the name sam's popularity(DV) \n",
    "# was a direct correlation with the years(IV). Obviously, this is not the case that someone's name is directly \n",
    "# correlated with year they are born. I then brought over the model to the entire dataset of years for the \n",
    "# name Sam(male) and graphed the results.\n",
    "\n",
    "# The results showed a lot for people that might be interested in how names would look if they were correlated\n",
    "# to the year the person was born. The red line is if the names stayed on a downward trend from the year 1915 \n",
    "# all the way to 2014. The points on the graph are the actual counts of the name sam for each year. \n",
    "# The gray line segment branching from the points to the red line is the difference from the counts to the \n",
    "# actual predicted values. The blue horizontal line is if the names were to ever reach 0. If the predicted model \n",
    "# were to be true, there would be nobody born with the name sam by 1990. \n",
    "\n",
    "# Prediction models are valuable for predicting observations that have a dependent variable and an independent variable. \n",
    "# This is just an example to test my skills of exploring data and telling a story using the data. "
   ]
  },
  {
   "cell_type": "code",
   "execution_count": null,
   "metadata": {},
   "outputs": [],
   "source": []
  },
  {
   "cell_type": "code",
   "execution_count": null,
   "metadata": {},
   "outputs": [],
   "source": []
  },
  {
   "cell_type": "code",
   "execution_count": null,
   "metadata": {},
   "outputs": [],
   "source": []
  }
 ],
 "metadata": {
  "kernelspec": {
   "display_name": "R",
   "language": "R",
   "name": "ir"
  },
  "language_info": {
   "codemirror_mode": "r",
   "file_extension": ".r",
   "mimetype": "text/x-r-source",
   "name": "R",
   "pygments_lexer": "r",
   "version": "3.5.1"
  }
 },
 "nbformat": 4,
 "nbformat_minor": 2
}
